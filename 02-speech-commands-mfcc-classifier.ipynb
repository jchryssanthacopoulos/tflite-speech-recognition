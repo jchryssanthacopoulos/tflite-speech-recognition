{
 "cells": [
  {
   "cell_type": "code",
   "execution_count": 1,
   "metadata": {},
   "outputs": [],
   "source": [
    "from os import listdir\n",
    "from os.path import isdir, join\n",
    "from tensorflow.keras import layers, models\n",
    "import numpy as np"
   ]
  },
  {
   "cell_type": "code",
   "execution_count": 2,
   "metadata": {},
   "outputs": [
    {
     "name": "stdout",
     "output_type": "stream",
     "text": [
      "['zero', 'four', 'three', 'right', 'cat', 'tree', 'happy', 'one', 'wow', 'up', 'down', 'house', 'marvin', 'two', 'yes', 'nine', 'bird', 'learn', 'sheila', 'dog', 'bed', 'eight', 'on', 'stop', 'left', 'forward', 'six', 'off', 'visual', 'five', 'backward', 'go', 'no', 'seven', 'follow']\n"
     ]
    }
   ],
   "source": [
    "# Create list of all targets (minus background noise)\n",
    "dataset_path = 'data/data_speech_commands_v0.02'\n",
    "all_targets = all_targets = [name for name in listdir(dataset_path) if isdir(join(dataset_path, name))]\n",
    "all_targets.remove('_background_noise_')\n",
    "print(all_targets)"
   ]
  },
  {
   "cell_type": "code",
   "execution_count": 3,
   "metadata": {},
   "outputs": [],
   "source": [
    "# Settings\n",
    "feature_sets_path = '.'\n",
    "feature_sets_filename = 'all_targets_mfcc_sets.npz'\n",
    "model_filename = 'wake_word_stop_model.h5'\n",
    "wake_word = 'stop'"
   ]
  },
  {
   "cell_type": "code",
   "execution_count": 4,
   "metadata": {},
   "outputs": [
    {
     "name": "stdout",
     "output_type": "stream",
     "text": [
      "['x_train', 'y_train', 'x_val', 'y_val', 'x_test', 'y_test']\n"
     ]
    }
   ],
   "source": [
    "# Load feature sets\n",
    "feature_sets = np.load(join(feature_sets_path, feature_sets_filename))\n",
    "print(feature_sets.files)"
   ]
  },
  {
   "cell_type": "code",
   "execution_count": 5,
   "metadata": {},
   "outputs": [],
   "source": [
    "# Assign feature sets\n",
    "x_train = feature_sets['x_train']\n",
    "y_train = feature_sets['y_train']\n",
    "x_val = feature_sets['x_val']\n",
    "y_val = feature_sets['y_val']\n",
    "x_test = feature_sets['x_test']\n",
    "y_test = feature_sets['y_test']"
   ]
  },
  {
   "cell_type": "code",
   "execution_count": 6,
   "metadata": {},
   "outputs": [
    {
     "name": "stdout",
     "output_type": "stream",
     "text": [
      "(77439, 16, 16)\n",
      "(9726, 16, 16)\n",
      "(9691, 16, 16)\n"
     ]
    }
   ],
   "source": [
    "# Look at tensor dimensions\n",
    "print(x_train.shape)\n",
    "print(x_val.shape)\n",
    "print(x_test.shape)"
   ]
  },
  {
   "cell_type": "code",
   "execution_count": 7,
   "metadata": {},
   "outputs": [
    {
     "name": "stdout",
     "output_type": "stream",
     "text": [
      "[ 9. 16. 32. ... 15. 17. 21.]\n"
     ]
    }
   ],
   "source": [
    "# Peek at labels\n",
    "print(y_val)"
   ]
  },
  {
   "cell_type": "code",
   "execution_count": 8,
   "metadata": {},
   "outputs": [],
   "source": [
    "# Convert ground truth arrays to one wake word (1) and 'other' (0)\n",
    "wake_word_index = all_targets.index(wake_word)\n",
    "y_train = np.equal(y_train, wake_word_index).astype('float64')\n",
    "y_val = np.equal(y_val, wake_word_index).astype('float64')\n",
    "y_test = np.equal(y_test, wake_word_index).astype('float64')"
   ]
  },
  {
   "cell_type": "code",
   "execution_count": 9,
   "metadata": {},
   "outputs": [
    {
     "name": "stdout",
     "output_type": "stream",
     "text": [
      "[0. 0. 0. ... 0. 0. 0.]\n"
     ]
    }
   ],
   "source": [
    "# Peek at labels after conversion\n",
    "print(y_val)"
   ]
  },
  {
   "cell_type": "code",
   "execution_count": 10,
   "metadata": {},
   "outputs": [
    {
     "name": "stdout",
     "output_type": "stream",
     "text": [
      "0.03824799506477483\n",
      "0.9617520049352252\n"
     ]
    }
   ],
   "source": [
    "# What percentage of 'stop' appear in validation labels\n",
    "print(sum(y_val) / len(y_val))\n",
    "print(1 - sum(y_val) / len(y_val))"
   ]
  },
  {
   "cell_type": "code",
   "execution_count": 11,
   "metadata": {},
   "outputs": [
    {
     "name": "stdout",
     "output_type": "stream",
     "text": [
      "(77439, 16, 16)\n"
     ]
    }
   ],
   "source": [
    "# View the dimensions of our input data\n",
    "print(x_train.shape)"
   ]
  },
  {
   "cell_type": "code",
   "execution_count": 12,
   "metadata": {},
   "outputs": [
    {
     "name": "stdout",
     "output_type": "stream",
     "text": [
      "(77439, 16, 16, 1)\n",
      "(9726, 16, 16, 1)\n",
      "(9691, 16, 16, 1)\n"
     ]
    }
   ],
   "source": [
    "# CNN for TF expects (batch, height, width, channels)\n",
    "# So we reshape the input tensors with a \"color\" channel of 1\n",
    "x_train = x_train.reshape(x_train.shape[0], \n",
    "                          x_train.shape[1], \n",
    "                          x_train.shape[2], \n",
    "                          1)\n",
    "x_val = x_val.reshape(x_val.shape[0], \n",
    "                      x_val.shape[1], \n",
    "                      x_val.shape[2], \n",
    "                      1)\n",
    "x_test = x_test.reshape(x_test.shape[0], \n",
    "                        x_test.shape[1], \n",
    "                        x_test.shape[2], \n",
    "                        1)\n",
    "print(x_train.shape)\n",
    "print(x_val.shape)\n",
    "print(x_test.shape)"
   ]
  },
  {
   "cell_type": "code",
   "execution_count": 13,
   "metadata": {},
   "outputs": [
    {
     "name": "stdout",
     "output_type": "stream",
     "text": [
      "(16, 16, 1)\n"
     ]
    }
   ],
   "source": [
    "# Input shape for CNN is size of MFCC of 1 sample\n",
    "sample_shape = x_test.shape[1:]\n",
    "print(sample_shape)"
   ]
  },
  {
   "cell_type": "code",
   "execution_count": 14,
   "metadata": {},
   "outputs": [],
   "source": [
    "# Build model\n",
    "# Based on: https://www.geeksforgeeks.org/python-image-classification-using-keras/\n",
    "model = models.Sequential()\n",
    "model.add(layers.Conv2D(32, \n",
    "                        (2, 2), \n",
    "                        activation='relu',\n",
    "                        input_shape=sample_shape))\n",
    "model.add(layers.MaxPooling2D(pool_size=(2, 2)))\n",
    "\n",
    "model.add(layers.Conv2D(32, (2, 2), activation='relu'))\n",
    "model.add(layers.MaxPooling2D(pool_size=(2, 2)))\n",
    "\n",
    "model.add(layers.Conv2D(64, (2, 2), activation='relu'))\n",
    "model.add(layers.MaxPooling2D(pool_size=(2, 2)))\n",
    "\n",
    "# Classifier\n",
    "model.add(layers.Flatten())\n",
    "model.add(layers.Dense(64, activation='relu'))\n",
    "model.add(layers.Dropout(0.5))\n",
    "model.add(layers.Dense(1, activation='sigmoid'))"
   ]
  },
  {
   "cell_type": "code",
   "execution_count": 15,
   "metadata": {},
   "outputs": [
    {
     "name": "stdout",
     "output_type": "stream",
     "text": [
      "Model: \"sequential\"\n",
      "_________________________________________________________________\n",
      "Layer (type)                 Output Shape              Param #   \n",
      "=================================================================\n",
      "conv2d (Conv2D)              (None, 15, 15, 32)        160       \n",
      "_________________________________________________________________\n",
      "max_pooling2d (MaxPooling2D) (None, 7, 7, 32)          0         \n",
      "_________________________________________________________________\n",
      "conv2d_1 (Conv2D)            (None, 6, 6, 32)          4128      \n",
      "_________________________________________________________________\n",
      "max_pooling2d_1 (MaxPooling2 (None, 3, 3, 32)          0         \n",
      "_________________________________________________________________\n",
      "conv2d_2 (Conv2D)            (None, 2, 2, 64)          8256      \n",
      "_________________________________________________________________\n",
      "max_pooling2d_2 (MaxPooling2 (None, 1, 1, 64)          0         \n",
      "_________________________________________________________________\n",
      "flatten (Flatten)            (None, 64)                0         \n",
      "_________________________________________________________________\n",
      "dense (Dense)                (None, 64)                4160      \n",
      "_________________________________________________________________\n",
      "dropout (Dropout)            (None, 64)                0         \n",
      "_________________________________________________________________\n",
      "dense_1 (Dense)              (None, 1)                 65        \n",
      "=================================================================\n",
      "Total params: 16,769\n",
      "Trainable params: 16,769\n",
      "Non-trainable params: 0\n",
      "_________________________________________________________________\n"
     ]
    }
   ],
   "source": [
    "# Display model\n",
    "model.summary()"
   ]
  },
  {
   "cell_type": "code",
   "execution_count": 16,
   "metadata": {},
   "outputs": [],
   "source": [
    "# Add training parameters to model\n",
    "model.compile(loss='binary_crossentropy', \n",
    "              optimizer='rmsprop', \n",
    "              metrics=['acc'])"
   ]
  },
  {
   "cell_type": "code",
   "execution_count": 17,
   "metadata": {},
   "outputs": [
    {
     "name": "stdout",
     "output_type": "stream",
     "text": [
      "Epoch 1/30\n",
      "775/775 [==============================] - 6s 7ms/step - loss: 0.1619 - acc: 0.9531 - val_loss: 0.0861 - val_acc: 0.9745\n",
      "Epoch 2/30\n",
      "775/775 [==============================] - 5s 7ms/step - loss: 0.0880 - acc: 0.9702 - val_loss: 0.0781 - val_acc: 0.9792\n",
      "Epoch 3/30\n",
      "775/775 [==============================] - 5s 7ms/step - loss: 0.0684 - acc: 0.9789 - val_loss: 0.0782 - val_acc: 0.9806\n",
      "Epoch 4/30\n",
      "775/775 [==============================] - 5s 6ms/step - loss: 0.0595 - acc: 0.9824 - val_loss: 0.0590 - val_acc: 0.9833\n",
      "Epoch 5/30\n",
      "775/775 [==============================] - 5s 6ms/step - loss: 0.0590 - acc: 0.9823 - val_loss: 0.0666 - val_acc: 0.9833\n",
      "Epoch 6/30\n",
      "775/775 [==============================] - 5s 6ms/step - loss: 0.0539 - acc: 0.9843 - val_loss: 0.0557 - val_acc: 0.9841\n",
      "Epoch 7/30\n",
      "775/775 [==============================] - 5s 6ms/step - loss: 0.0557 - acc: 0.9832 - val_loss: 0.1064 - val_acc: 0.9603\n",
      "Epoch 8/30\n",
      "775/775 [==============================] - 5s 6ms/step - loss: 0.0523 - acc: 0.9845 - val_loss: 0.0611 - val_acc: 0.9830\n",
      "Epoch 9/30\n",
      "775/775 [==============================] - 5s 6ms/step - loss: 0.0513 - acc: 0.9850 - val_loss: 0.0515 - val_acc: 0.9845\n",
      "Epoch 10/30\n",
      "775/775 [==============================] - 5s 6ms/step - loss: 0.0512 - acc: 0.9859 - val_loss: 0.0526 - val_acc: 0.9842\n",
      "Epoch 11/30\n",
      "775/775 [==============================] - 5s 6ms/step - loss: 0.0533 - acc: 0.9852 - val_loss: 0.0623 - val_acc: 0.9821\n",
      "Epoch 12/30\n",
      "775/775 [==============================] - 5s 6ms/step - loss: 0.0544 - acc: 0.9857 - val_loss: 0.0578 - val_acc: 0.9834\n",
      "Epoch 13/30\n",
      "775/775 [==============================] - 5s 6ms/step - loss: 0.0537 - acc: 0.9856 - val_loss: 0.1409 - val_acc: 0.9441\n",
      "Epoch 14/30\n",
      "775/775 [==============================] - 5s 6ms/step - loss: 0.0591 - acc: 0.9844 - val_loss: 0.0510 - val_acc: 0.9851\n",
      "Epoch 15/30\n",
      "775/775 [==============================] - 5s 6ms/step - loss: 0.0540 - acc: 0.9845 - val_loss: 0.0756 - val_acc: 0.9771\n",
      "Epoch 16/30\n",
      "775/775 [==============================] - 5s 6ms/step - loss: 0.0576 - acc: 0.9844 - val_loss: 0.0586 - val_acc: 0.9843\n",
      "Epoch 17/30\n",
      "775/775 [==============================] - 5s 6ms/step - loss: 0.0592 - acc: 0.9841 - val_loss: 0.0558 - val_acc: 0.9830\n",
      "Epoch 18/30\n",
      "775/775 [==============================] - 5s 6ms/step - loss: 0.0606 - acc: 0.9833 - val_loss: 0.0626 - val_acc: 0.9817\n",
      "Epoch 19/30\n",
      "775/775 [==============================] - 5s 6ms/step - loss: 0.0574 - acc: 0.9844 - val_loss: 0.0555 - val_acc: 0.9842\n",
      "Epoch 20/30\n",
      "775/775 [==============================] - 5s 6ms/step - loss: 0.0646 - acc: 0.9835 - val_loss: 0.0558 - val_acc: 0.9824\n",
      "Epoch 21/30\n",
      "775/775 [==============================] - 5s 6ms/step - loss: 0.0561 - acc: 0.9854 - val_loss: 0.0668 - val_acc: 0.9827\n",
      "Epoch 22/30\n",
      "775/775 [==============================] - 5s 6ms/step - loss: 0.0579 - acc: 0.9851 - val_loss: 0.0630 - val_acc: 0.9841\n",
      "Epoch 23/30\n",
      "775/775 [==============================] - 5s 6ms/step - loss: 0.0608 - acc: 0.9837 - val_loss: 0.0543 - val_acc: 0.9824\n",
      "Epoch 24/30\n",
      "775/775 [==============================] - 5s 6ms/step - loss: 0.0550 - acc: 0.9845 - val_loss: 0.0535 - val_acc: 0.9831\n",
      "Epoch 25/30\n",
      "775/775 [==============================] - 5s 6ms/step - loss: 0.0578 - acc: 0.9839 - val_loss: 0.0650 - val_acc: 0.9816\n",
      "Epoch 26/30\n",
      "775/775 [==============================] - 5s 6ms/step - loss: 0.0571 - acc: 0.9835 - val_loss: 0.0642 - val_acc: 0.9838\n",
      "Epoch 27/30\n",
      "775/775 [==============================] - 5s 6ms/step - loss: 0.0622 - acc: 0.9845 - val_loss: 0.0506 - val_acc: 0.9845\n",
      "Epoch 28/30\n",
      "775/775 [==============================] - 5s 6ms/step - loss: 0.0598 - acc: 0.9839 - val_loss: 0.0513 - val_acc: 0.9855\n",
      "Epoch 29/30\n",
      "775/775 [==============================] - 5s 6ms/step - loss: 0.0558 - acc: 0.9844 - val_loss: 0.0579 - val_acc: 0.9828\n",
      "Epoch 30/30\n",
      "775/775 [==============================] - 5s 6ms/step - loss: 0.0609 - acc: 0.9843 - val_loss: 0.0552 - val_acc: 0.9820\n"
     ]
    }
   ],
   "source": [
    "# Train\n",
    "history = model.fit(x_train, \n",
    "                    y_train, \n",
    "                    epochs=30, \n",
    "                    batch_size=100, \n",
    "                    validation_data=(x_val, y_val))"
   ]
  },
  {
   "cell_type": "code",
   "execution_count": 18,
   "metadata": {},
   "outputs": [
    {
     "data": {
      "image/png": "[encoded data removed]",
      "text/plain": [
       "<Figure size 432x288 with 1 Axes>"
      ]
     },
     "metadata": {
      "needs_background": "light"
     },
     "output_type": "display_data"
    },
    {
     "data": {
      "image/png": "[encoded data removed]",
      "text/plain": [
       "<Figure size 432x288 with 1 Axes>"
      ]
     },
     "metadata": {
      "needs_background": "light"
     },
     "output_type": "display_data"
    }
   ],
   "source": [
    "# Plot results\n",
    "import matplotlib.pyplot as plt\n",
    "\n",
    "acc = history.history['acc']\n",
    "val_acc = history.history['val_acc']\n",
    "loss = history.history['loss']\n",
    "val_loss = history.history['val_loss']\n",
    "\n",
    "epochs = range(1, len(acc) + 1)\n",
    "\n",
    "plt.plot(epochs, acc, 'bo', label='Training acc')\n",
    "plt.plot(epochs, val_acc, 'b', label='Validation acc')\n",
    "plt.title('Training and validation accuracy')\n",
    "plt.legend()\n",
    "\n",
    "plt.figure()\n",
    "\n",
    "plt.plot(epochs, loss, 'bo', label='Training loss')\n",
    "plt.plot(epochs, val_loss, 'b', label='Validation loss')\n",
    "plt.title('Training and validation loss')\n",
    "plt.legend()\n",
    "\n",
    "plt.show()"
   ]
  },
  {
   "cell_type": "code",
   "execution_count": 19,
   "metadata": {},
   "outputs": [],
   "source": [
    "# Save the model as a file\n",
    "models.save_model(model, model_filename)"
   ]
  },
  {
   "cell_type": "code",
   "execution_count": 20,
   "metadata": {},
   "outputs": [
    {
     "name": "stdout",
     "output_type": "stream",
     "text": [
      "97\n",
      "100\n",
      "135\n",
      "230\n",
      "293\n",
      "331\n",
      "354\n",
      "367\n",
      "392\n",
      "406\n",
      "440\n",
      "445\n",
      "448\n",
      "452\n",
      "482\n",
      "495\n",
      "527\n",
      "533\n",
      "586\n",
      "612\n",
      "679\n",
      "685\n",
      "722\n",
      "736\n",
      "871\n",
      "880\n",
      "910\n",
      "911\n",
      "955\n",
      "960\n",
      "984\n",
      "1034\n",
      "1037\n",
      "1053\n",
      "1081\n",
      "1091\n",
      "1118\n",
      "1149\n",
      "1152\n",
      "1170\n",
      "1182\n",
      "1192\n",
      "1221\n",
      "1244\n",
      "1287\n",
      "1307\n",
      "1320\n",
      "1334\n",
      "1337\n",
      "1354\n",
      "1363\n",
      "1367\n",
      "1383\n",
      "1391\n",
      "1400\n",
      "1464\n",
      "1481\n",
      "1489\n",
      "1508\n",
      "1521\n",
      "1539\n",
      "1561\n",
      "1624\n",
      "1628\n",
      "1693\n",
      "1735\n",
      "1776\n",
      "1852\n",
      "1870\n",
      "1977\n",
      "1989\n",
      "1992\n",
      "2055\n",
      "2067\n",
      "2097\n",
      "2098\n",
      "2107\n",
      "2119\n",
      "2149\n",
      "2191\n",
      "2208\n",
      "2300\n",
      "2304\n",
      "2309\n",
      "2313\n",
      "2321\n",
      "2326\n",
      "2339\n",
      "2348\n",
      "2352\n",
      "2414\n",
      "2432\n",
      "2470\n",
      "2474\n",
      "2488\n",
      "2631\n",
      "2725\n",
      "2744\n",
      "2797\n",
      "2803\n",
      "2822\n",
      "2825\n",
      "2853\n",
      "2854\n",
      "2862\n",
      "2876\n",
      "2891\n",
      "2902\n",
      "2904\n",
      "2919\n",
      "2923\n",
      "3007\n",
      "3060\n",
      "3079\n",
      "3082\n",
      "3110\n",
      "3142\n",
      "3148\n",
      "3159\n",
      "3161\n",
      "3257\n",
      "3274\n",
      "3279\n",
      "3281\n",
      "3379\n",
      "3398\n",
      "3502\n",
      "3511\n",
      "3521\n",
      "3528\n",
      "3530\n",
      "3549\n",
      "3550\n",
      "3553\n",
      "3580\n",
      "3674\n",
      "3700\n",
      "3701\n",
      "3769\n",
      "3785\n",
      "3829\n",
      "3831\n",
      "3836\n",
      "3848\n",
      "3860\n",
      "3865\n",
      "3867\n",
      "3971\n",
      "3984\n",
      "4015\n",
      "4024\n",
      "4086\n",
      "4093\n",
      "4212\n",
      "4251\n",
      "4257\n",
      "4327\n",
      "4377\n",
      "4385\n",
      "4493\n",
      "4496\n",
      "4508\n",
      "4511\n",
      "4531\n",
      "4616\n",
      "4626\n",
      "4646\n",
      "4667\n",
      "4697\n",
      "4701\n",
      "4759\n",
      "4771\n",
      "4800\n",
      "4802\n",
      "4859\n",
      "4893\n",
      "4929\n",
      "5017\n",
      "5041\n",
      "5109\n",
      "5139\n",
      "5177\n",
      "5197\n",
      "5218\n",
      "5233\n",
      "5255\n",
      "5303\n",
      "5313\n",
      "5333\n",
      "5362\n",
      "5373\n",
      "5428\n",
      "5430\n",
      "5492\n",
      "5540\n",
      "5560\n",
      "5565\n",
      "5584\n",
      "5652\n",
      "5681\n",
      "5698\n",
      "5715\n",
      "5722\n",
      "5729\n",
      "5737\n",
      "5740\n",
      "5747\n",
      "5755\n",
      "5766\n",
      "5795\n",
      "5799\n",
      "5871\n",
      "5983\n",
      "6023\n",
      "6024\n",
      "6040\n",
      "6088\n",
      "6108\n",
      "6115\n",
      "6130\n",
      "6159\n",
      "6196\n",
      "6234\n",
      "6242\n",
      "6285\n",
      "6289\n",
      "6310\n",
      "6312\n",
      "6316\n",
      "6353\n",
      "6361\n",
      "6373\n",
      "6395\n",
      "6409\n",
      "6439\n",
      "6440\n",
      "6474\n",
      "6475\n",
      "6484\n",
      "6517\n",
      "6556\n",
      "6564\n",
      "6583\n",
      "6631\n",
      "6649\n",
      "6678\n",
      "6715\n",
      "6742\n",
      "6748\n",
      "6782\n",
      "6828\n",
      "6836\n",
      "6846\n",
      "6847\n",
      "6851\n",
      "6864\n",
      "6902\n",
      "6903\n",
      "6967\n",
      "6978\n",
      "6983\n",
      "7078\n",
      "7084\n",
      "7089\n",
      "7194\n",
      "7205\n",
      "7210\n",
      "7223\n",
      "7226\n",
      "7312\n",
      "7321\n",
      "7446\n",
      "7502\n",
      "7558\n",
      "7566\n",
      "7576\n",
      "7578\n",
      "7635\n",
      "7668\n",
      "7678\n",
      "7684\n",
      "7717\n",
      "7768\n",
      "7772\n",
      "7775\n",
      "7779\n",
      "7842\n",
      "7882\n",
      "7886\n",
      "7928\n",
      "7936\n",
      "7977\n",
      "8058\n",
      "8069\n",
      "8070\n",
      "8110\n",
      "8147\n",
      "8163\n",
      "8223\n",
      "8229\n",
      "8245\n",
      "8280\n",
      "8288\n",
      "8327\n",
      "8337\n",
      "8338\n",
      "8359\n",
      "8378\n",
      "8403\n",
      "8431\n",
      "8432\n",
      "8448\n",
      "8492\n",
      "8502\n",
      "8565\n",
      "8568\n",
      "8596\n",
      "8607\n",
      "8621\n",
      "8685\n",
      "8736\n",
      "8738\n",
      "8762\n",
      "8793\n",
      "8839\n",
      "8847\n",
      "8882\n",
      "8939\n",
      "8980\n",
      "9037\n",
      "9052\n",
      "9083\n",
      "9098\n",
      "9123\n",
      "9158\n",
      "9186\n",
      "9229\n",
      "9231\n",
      "9288\n",
      "9290\n",
      "9335\n",
      "9357\n",
      "9386\n",
      "9398\n",
      "9423\n",
      "9430\n",
      "9435\n",
      "9448\n",
      "9457\n",
      "9526\n",
      "9558\n",
      "9593\n",
      "9605\n",
      "9609\n",
      "9621\n",
      "9644\n",
      "9650\n"
     ]
    }
   ],
   "source": [
    "# See which are 'stop'\n",
    "for idx, y in enumerate(y_test):\n",
    "    if y == 1:\n",
    "        print(idx)"
   ]
  },
  {
   "cell_type": "code",
   "execution_count": 21,
   "metadata": {},
   "outputs": [
    {
     "name": "stdout",
     "output_type": "stream",
     "text": [
      "Answer: 1.0  Prediction: [[0.92442906]]\n",
      "Answer: 0.0  Prediction: [[0.01127735]]\n",
      "Answer: 0.0  Prediction: [[0.01806501]]\n",
      "Answer: 0.0  Prediction: [[7.3005813e-06]]\n",
      "Answer: 0.0  Prediction: [[1.394443e-05]]\n",
      "Answer: 0.0  Prediction: [[0.00768739]]\n",
      "Answer: 0.0  Prediction: [[0.00236255]]\n",
      "Answer: 0.0  Prediction: [[0.00034595]]\n",
      "Answer: 0.0  Prediction: [[1.2219827e-21]]\n",
      "Answer: 0.0  Prediction: [[0.02372068]]\n"
     ]
    }
   ],
   "source": [
    "# TEST: Load model and run it against test set\n",
    "model = models.load_model(model_filename)\n",
    "for i in range(100, 110):\n",
    "    print('Answer:', y_test[i], ' Prediction:', model.predict(np.expand_dims(x_test[i], 0)))"
   ]
  },
  {
   "cell_type": "code",
   "execution_count": 22,
   "metadata": {},
   "outputs": [
    {
     "name": "stdout",
     "output_type": "stream",
     "text": [
      "303/303 [==============================] - 1s 1ms/step - loss: 0.0614 - acc: 0.9844\n"
     ]
    },
    {
     "data": {
      "text/plain": [
       "[0.06141199916601181, 0.984418511390686]"
      ]
     },
     "execution_count": 22,
     "metadata": {},
     "output_type": "execute_result"
    }
   ],
   "source": [
    "# Evaluate model with test set\n",
    "model.evaluate(x=x_test, y=y_test)"
   ]
  },
  {
   "cell_type": "code",
   "execution_count": 25,
   "metadata": {},
   "outputs": [],
   "source": [
    "# for x in x_train[y_train == 1]:\n",
    "#     print(model.predict(np.expand_dims(x, 0)))"
   ]
  }
 ],
 "metadata": {
  "kernelspec": {
   "display_name": "Python 3",
   "language": "python",
   "name": "python3"
  },
  "language_info": {
   "codemirror_mode": {
    "name": "ipython",
    "version": 3
   },
   "file_extension": ".py",
   "mimetype": "text/x-python",
   "name": "python",
   "nbconvert_exporter": "python",
   "pygments_lexer": "ipython3",
   "version": "3.7.9"
  }
 },
 "nbformat": 4,
 "nbformat_minor": 2
}
